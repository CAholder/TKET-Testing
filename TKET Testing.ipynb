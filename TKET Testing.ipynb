{
 "cells": [
  {
   "cell_type": "code",
   "execution_count": 1,
   "metadata": {
    "collapsed": true
   },
   "outputs": [],
   "source": [
    "\"\"\"\n",
    "Grover's Search Benchmark Program - Qiskit\n",
    "\"\"\"\n",
    "\n",
    "import sys\n",
    "import time\n",
    "from qiskit import *\n",
    "from qiskit import IBMQ, Aer\n",
    "from qiskit.visualization import plot_histogram\n",
    "from qiskit.providers.aer.noise import NoiseModel\n",
    "\n",
    "import numpy as np\n",
    "from pytket import *\n",
    "import pytket.extensions.qiskit as pyqi\n",
    "\n",
    "import pytket.extensions.qsharp as AB\n",
    "\n"
   ]
  },
  {
   "cell_type": "code",
   "execution_count": 2,
   "outputs": [
    {
     "name": "stdout",
     "output_type": "stream",
     "text": [
      "{'11': 510, '00': 490}\n"
     ]
    }
   ],
   "source": [
    "# provider = IBMQ.load_account()\n",
    "# backend = provider.get_backend('ibmq_lima')\n",
    "\"\"\"Basic Qiskit circuit with no TKET adjustment\"\"\"\n",
    "\n",
    "qc = QuantumCircuit(2,2)\n",
    "qc.h(0)\n",
    "qc.cx(0,1)\n",
    "\n",
    "meas = QuantumCircuit(2,2)\n",
    "meas.measure([0,1],[0,1])\n",
    "\n",
    "regularBackend = BasicAer.get_backend('qasm_simulator')\n",
    "drawing = qc.compose(meas)\n",
    "result = regularBackend.run(transpile(drawing, regularBackend), shots=1000).result()\n",
    "counts = result.get_counts(qc)\n",
    "print(counts)\n",
    "\n"
   ],
   "metadata": {
    "collapsed": false,
    "pycharm": {
     "name": "#%%\n"
    }
   }
  },
  {
   "cell_type": "code",
   "execution_count": 3,
   "outputs": [
    {
     "name": "stdout",
     "output_type": "stream",
     "text": [
      "<class 'pytket._tket.circuit.Circuit'>\n",
      "Counter({(0, 0): 4, (1, 1): 1})\n"
     ]
    }
   ],
   "source": [
    "\"\"\"Qiskit to TKET conversion \"\"\"\n",
    "\n",
    "tketCirc = pyqi.qiskit_to_tk(qc)\n",
    "tketCirc.measure_all()\n",
    "print(type(tketCirc))\n",
    "tketQiskitBackend = pyqi.AerBackend()\n",
    "tket_compiled_circ = tketQiskitBackend.get_compiled_circuit(tketCirc)\n",
    "tket_handle = tketQiskitBackend.process_circuit(tketCirc,n_shots=5)\n",
    "tket_counts = tketQiskitBackend.get_result((tket_handle)).get_counts()\n",
    "print(tket_counts)\n"
   ],
   "metadata": {
    "collapsed": false,
    "pycharm": {
     "name": "#%%\n"
    }
   }
  },
  {
   "cell_type": "code",
   "execution_count": 4,
   "outputs": [
    {
     "name": "stdout",
     "output_type": "stream",
     "text": [
      "Connected to Azure Quantum workspace IONQTest1forChoi in location eastus.\r\n",
      "Loading package Microsoft.Quantum.Providers.IonQ and dependencies...\r\n",
      "Active target is now ionq.simulator\r\n",
      "True\n",
      "Pass 1\n",
      "Pass 2\n",
      "Loading package Microsoft.Quantum.Providers.IonQ and dependencies...\r\n",
      "Active target is now ionq.simulator\r\n"
     ]
    },
    {
     "name": "stderr",
     "output_type": "stream",
     "text": [
      "Exception has been thrown by the target of an invocation.\r\n"
     ]
    },
    {
     "ename": "TypeError",
     "evalue": "argument of type 'NoneType' is not iterable",
     "output_type": "error",
     "traceback": [
      "\u001B[1;31m---------------------------------------------------------------------------\u001B[0m",
      "\u001B[1;31mTypeError\u001B[0m                                 Traceback (most recent call last)",
      "\u001B[1;32m<ipython-input-4-c60d2fd27c32>\u001B[0m in \u001B[0;36m<module>\u001B[1;34m\u001B[0m\n\u001B[0;32m      4\u001B[0m \u001B[0mcompiled_cric\u001B[0m \u001B[1;33m=\u001B[0m \u001B[0mIONQ\u001B[0m\u001B[1;33m.\u001B[0m\u001B[0mget_compiled_circuit\u001B[0m\u001B[1;33m(\u001B[0m\u001B[0mtketCirc\u001B[0m\u001B[1;33m)\u001B[0m\u001B[1;33m\u001B[0m\u001B[1;33m\u001B[0m\u001B[0m\n\u001B[0;32m      5\u001B[0m \u001B[0mprint\u001B[0m\u001B[1;33m(\u001B[0m\u001B[1;34m\"Pass 2\"\u001B[0m\u001B[1;33m)\u001B[0m\u001B[1;33m\u001B[0m\u001B[1;33m\u001B[0m\u001B[0m\n\u001B[1;32m----> 6\u001B[1;33m \u001B[0mprocessCircuit\u001B[0m \u001B[1;33m=\u001B[0m \u001B[0mIONQ\u001B[0m\u001B[1;33m.\u001B[0m\u001B[0mprocess_circuit\u001B[0m\u001B[1;33m(\u001B[0m\u001B[0mcompiled_cric\u001B[0m\u001B[1;33m,\u001B[0m\u001B[0mn_shots\u001B[0m\u001B[1;33m=\u001B[0m\u001B[1;36m5\u001B[0m\u001B[1;33m)\u001B[0m\u001B[1;33m\u001B[0m\u001B[1;33m\u001B[0m\u001B[0m\n\u001B[0m\u001B[0;32m      7\u001B[0m \u001B[0mprint\u001B[0m\u001B[1;33m(\u001B[0m\u001B[1;34m\"Pass 3\"\u001B[0m\u001B[1;33m)\u001B[0m\u001B[1;33m\u001B[0m\u001B[1;33m\u001B[0m\u001B[0m\n\u001B[0;32m      8\u001B[0m \u001B[0mtketResult\u001B[0m \u001B[1;33m=\u001B[0m \u001B[0mIONQ\u001B[0m\u001B[1;33m.\u001B[0m\u001B[0mget_result\u001B[0m\u001B[1;33m(\u001B[0m\u001B[0mprocessCircuit\u001B[0m\u001B[1;33m)\u001B[0m\u001B[1;33m\u001B[0m\u001B[1;33m\u001B[0m\u001B[0m\n",
      "\u001B[1;32mc:\\users\\austin choi\\appdata\\local\\programs\\python\\python39\\lib\\site-packages\\pytket\\backends\\backend.py\u001B[0m in \u001B[0;36mprocess_circuit\u001B[1;34m(self, circuit, n_shots, valid_check, **kwargs)\u001B[0m\n\u001B[0;32m    242\u001B[0m         \"\"\"\n\u001B[0;32m    243\u001B[0m \u001B[1;33m\u001B[0m\u001B[0m\n\u001B[1;32m--> 244\u001B[1;33m         return self.process_circuits(\n\u001B[0m\u001B[0;32m    245\u001B[0m             \u001B[1;33m[\u001B[0m\u001B[0mcircuit\u001B[0m\u001B[1;33m]\u001B[0m\u001B[1;33m,\u001B[0m \u001B[0mn_shots\u001B[0m\u001B[1;33m=\u001B[0m\u001B[0mn_shots\u001B[0m\u001B[1;33m,\u001B[0m \u001B[0mvalid_check\u001B[0m\u001B[1;33m=\u001B[0m\u001B[0mvalid_check\u001B[0m\u001B[1;33m,\u001B[0m \u001B[1;33m**\u001B[0m\u001B[0mkwargs\u001B[0m\u001B[1;33m\u001B[0m\u001B[1;33m\u001B[0m\u001B[0m\n\u001B[0;32m    246\u001B[0m         )[0]\n",
      "\u001B[1;32mc:\\users\\austin choi\\appdata\\local\\programs\\python\\python39\\lib\\site-packages\\pytket\\extensions\\qsharp\\backends\\azure_quantum.py\u001B[0m in \u001B[0;36mprocess_circuits\u001B[1;34m(self, circuits, n_shots, valid_check, **kwargs)\u001B[0m\n\u001B[0;32m    211\u001B[0m                 \u001B[0mqc\u001B[0m \u001B[1;33m=\u001B[0m \u001B[0mcast\u001B[0m\u001B[1;33m(\u001B[0m\u001B[1;34m\"QSharpCallable\"\u001B[0m\u001B[1;33m,\u001B[0m \u001B[0mqscompile\u001B[0m\u001B[1;33m(\u001B[0m\u001B[0mqs\u001B[0m\u001B[1;33m)\u001B[0m\u001B[1;33m)\u001B[0m\u001B[1;33m\u001B[0m\u001B[1;33m\u001B[0m\u001B[0m\n\u001B[0;32m    212\u001B[0m                 \u001B[0mqsharp\u001B[0m\u001B[1;33m.\u001B[0m\u001B[0mazure\u001B[0m\u001B[1;33m.\u001B[0m\u001B[0mtarget\u001B[0m\u001B[1;33m(\u001B[0m\u001B[0mself\u001B[0m\u001B[1;33m.\u001B[0m\u001B[0mtarget\u001B[0m\u001B[1;33m.\u001B[0m\u001B[0mid\u001B[0m\u001B[1;33m)\u001B[0m\u001B[1;33m\u001B[0m\u001B[1;33m\u001B[0m\u001B[0m\n\u001B[1;32m--> 213\u001B[1;33m                 \u001B[0mjob\u001B[0m \u001B[1;33m=\u001B[0m \u001B[0mqsharp\u001B[0m\u001B[1;33m.\u001B[0m\u001B[0mazure\u001B[0m\u001B[1;33m.\u001B[0m\u001B[0msubmit\u001B[0m\u001B[1;33m(\u001B[0m\u001B[0mqc\u001B[0m\u001B[1;33m,\u001B[0m \u001B[0mjobName\u001B[0m\u001B[1;33m=\u001B[0m\u001B[0mc\u001B[0m\u001B[1;33m.\u001B[0m\u001B[0mname\u001B[0m\u001B[1;33m,\u001B[0m \u001B[0mshots\u001B[0m\u001B[1;33m=\u001B[0m\u001B[0mn_shots\u001B[0m\u001B[1;33m)\u001B[0m\u001B[1;33m\u001B[0m\u001B[1;33m\u001B[0m\u001B[0m\n\u001B[0m\u001B[0;32m    214\u001B[0m                 \u001B[0mhandle\u001B[0m \u001B[1;33m=\u001B[0m \u001B[0mResultHandle\u001B[0m\u001B[1;33m(\u001B[0m\u001B[0mjob\u001B[0m\u001B[1;33m.\u001B[0m\u001B[0mid\u001B[0m\u001B[1;33m,\u001B[0m \u001B[0mn_shots\u001B[0m\u001B[1;33m,\u001B[0m \u001B[0mppcirc_str\u001B[0m\u001B[1;33m)\u001B[0m\u001B[1;33m\u001B[0m\u001B[1;33m\u001B[0m\u001B[0m\n\u001B[0;32m    215\u001B[0m                 \u001B[0mhandles\u001B[0m\u001B[1;33m.\u001B[0m\u001B[0mappend\u001B[0m\u001B[1;33m(\u001B[0m\u001B[0mhandle\u001B[0m\u001B[1;33m)\u001B[0m\u001B[1;33m\u001B[0m\u001B[1;33m\u001B[0m\u001B[0m\n",
      "\u001B[1;32mc:\\users\\austin choi\\appdata\\local\\programs\\python\\python39\\lib\\site-packages\\qsharp\\azure.py\u001B[0m in \u001B[0;36msubmit\u001B[1;34m(op, **params)\u001B[0m\n\u001B[0;32m    126\u001B[0m     \"\"\"\n\u001B[0;32m    127\u001B[0m     \u001B[0mresult\u001B[0m \u001B[1;33m=\u001B[0m \u001B[0mqsharp\u001B[0m\u001B[1;33m.\u001B[0m\u001B[0mclient\u001B[0m\u001B[1;33m.\u001B[0m\u001B[0m_execute_callable_magic\u001B[0m\u001B[1;33m(\u001B[0m\u001B[1;34m\"azure.submit\"\u001B[0m\u001B[1;33m,\u001B[0m \u001B[0mop\u001B[0m\u001B[1;33m,\u001B[0m \u001B[0mraise_on_stderr\u001B[0m\u001B[1;33m=\u001B[0m\u001B[1;32mFalse\u001B[0m\u001B[1;33m,\u001B[0m \u001B[1;33m**\u001B[0m\u001B[0mparams\u001B[0m\u001B[1;33m)\u001B[0m\u001B[1;33m\u001B[0m\u001B[1;33m\u001B[0m\u001B[0m\n\u001B[1;32m--> 128\u001B[1;33m     \u001B[1;32mif\u001B[0m \u001B[1;34m\"error_code\"\u001B[0m \u001B[1;32min\u001B[0m \u001B[0mresult\u001B[0m\u001B[1;33m:\u001B[0m \u001B[1;32mraise\u001B[0m \u001B[0mAzureError\u001B[0m\u001B[1;33m(\u001B[0m\u001B[0mresult\u001B[0m\u001B[1;33m)\u001B[0m\u001B[1;33m\u001B[0m\u001B[1;33m\u001B[0m\u001B[0m\n\u001B[0m\u001B[0;32m    129\u001B[0m     \u001B[1;32mreturn\u001B[0m \u001B[0mAzureJob\u001B[0m\u001B[1;33m(\u001B[0m\u001B[0mresult\u001B[0m\u001B[1;33m)\u001B[0m\u001B[1;33m\u001B[0m\u001B[1;33m\u001B[0m\u001B[0m\n\u001B[0;32m    130\u001B[0m \u001B[1;33m\u001B[0m\u001B[0m\n",
      "\u001B[1;31mTypeError\u001B[0m: argument of type 'NoneType' is not iterable"
     ]
    }
   ],
   "source": [
    "IONQ = AB.AzureBackend(\"ionq.simulator\", resourceId = \"/subscriptions/7ef9c9ba-198a-420f-a70b-c4341dd14797/resourceGroups/AzureQuantum/providers/Microsoft.Quantum/Workspaces/IONQTest1forChoi\", location=\"East US\", storage=\"aqa259c256c06c4eac875c34\")\n",
    "print(IONQ.valid_circuit(tketCirc))\n",
    "print(\"Pass 1\")\n",
    "compiled_cric = IONQ.get_compiled_circuit(tketCirc)\n",
    "print(\"Pass 2\")\n",
    "processCircuit = IONQ.process_circuit(compiled_cric,n_shots=5)\n",
    "print(\"Pass 3\")\n",
    "tketResult = IONQ.get_result(processCircuit)\n",
    "\n",
    "print(tketResult)"
   ],
   "metadata": {
    "collapsed": false,
    "pycharm": {
     "name": "#%%\n"
    }
   }
  }
 ],
 "metadata": {
  "kernelspec": {
   "display_name": "Python 3",
   "language": "python",
   "name": "python3"
  },
  "language_info": {
   "codemirror_mode": {
    "name": "ipython",
    "version": 2
   },
   "file_extension": ".py",
   "mimetype": "text/x-python",
   "name": "python",
   "nbconvert_exporter": "python",
   "pygments_lexer": "ipython2",
   "version": "2.7.6"
  }
 },
 "nbformat": 4,
 "nbformat_minor": 0
}