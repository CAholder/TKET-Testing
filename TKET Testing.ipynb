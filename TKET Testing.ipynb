{
 "cells": [
  {
   "cell_type": "code",
   "execution_count": 9,
   "metadata": {
    "pycharm": {
     "name": "#%%\n"
    },
    "tags": []
   },
   "outputs": [],
   "source": [
    "\"\"\"\n",
    "Grover's Search Benchmark Program - Qiskit\n",
    "\"\"\"\n",
    "\n",
    "import sys\n",
    "import time\n",
    "\n",
    "from qiskit import IBMQ, Aer, QuantumCircuit, transpile\n",
    "import strangeworks as sw\n",
    "import numpy as np\n",
    "import pytket\n",
    "from strangeworks.qiskit import StrangeworksProvider\n",
    "from strangeworks.braket import get_backends, run_circuit, get_circuit_results\n",
    "from strangeworks.qiskit.jobs.strangeworksjob import StrangeworksJob\n",
    "import pytket.extensions.qiskit as pyqi #strangeworks-qiskit\n",
    "import pytket.extensions.braket as pybra #strangeworks-braket\n",
    "# import pytket.extensions.ionq as ionq\n",
    "\n"
   ]
  },
  {
   "cell_type": "code",
   "execution_count": 10,
   "metadata": {
    "collapsed": false,
    "jupyter": {
     "outputs_hidden": false
    },
    "pycharm": {
     "name": "#%%\n"
    }
   },
   "outputs": [
    {
     "name": "stdout",
     "output_type": "stream",
     "text": [
      "0.2.11\n"
     ]
    }
   ],
   "source": [
    "print(sw.__version__)\n",
    "sw.authenticate(username=\"auchoi\", api_key=\"\") #read from text file to hide api\n",
    "provider = StrangeworksProvider()"
   ]
  },
  {
   "cell_type": "code",
   "execution_count": 11,
   "metadata": {
    "collapsed": false,
    "jupyter": {
     "outputs_hidden": false
    },
    "pycharm": {
     "name": "#%%\n"
    }
   },
   "outputs": [
    {
     "name": "stdout",
     "output_type": "stream",
     "text": [
      "[aws.aws-managed.Aspen-10, aws.aws-managed.Aspen-11, aws.aws-managed.Aspen-8, aws.aws-managed.Aspen-9, aws.aws-managed.Aspen-M-1, aws.aws-managed.IonQ Device, aws.aws-managed.SV1, aws.aws-managed.dm1, ibm.caholder.ibm-q-deloitte.internal.quantum-guild.ibmq_qasm_simulator, ibm.caholder.ibm-q-deloitte.internal.quantum-guild.ibmq_armonk, ibm.caholder.ibm-q-deloitte.internal.quantum-guild.ibmq_santiago, ibm.caholder.ibm-q-deloitte.internal.quantum-guild.ibmq_bogota, ibm.caholder.ibm-q-deloitte.internal.quantum-guild.ibmq_jakarta, ibm.caholder.ibm-q-deloitte.internal.quantum-guild.ibm_lagos, ibm.caholder.ibm-q-deloitte.internal.quantum-guild.ibm_perth, ibm.caholder.ibm-q-deloitte.internal.deloitte-us-quan.ibmq_qasm_simulator, ibm.caholder.ibm-q-deloitte.internal.deloitte-us-quan.ibmq_armonk, ibm.caholder.ibm-q-deloitte.internal.deloitte-us-quan.ibmq_santiago, ibm.caholder.ibm-q-deloitte.internal.deloitte-us-quan.ibmq_bogota, ibm.caholder.ibm-q-deloitte.internal.deloitte-us-quan.ibmq_jakarta, ibm.caholder.ibm-q-deloitte.internal.deloitte-us-quan.ibm_lagos, ibm.caholder.ibm-q-deloitte.internal.deloitte-us-quan.ibm_perth, ibm.caholder.ibm-q.open.main.ibmq_qasm_simulator, ibm.caholder.ibm-q.open.main.ibmq_armonk, ibm.caholder.ibm-q.open.main.ibmq_santiago, ibm.caholder.ibm-q.open.main.ibmq_bogota, ibm.caholder.ibm-q.open.main.ibmq_lima, ibm.caholder.ibm-q.open.main.ibmq_belem, ibm.caholder.ibm-q.open.main.ibmq_quito, ibm.caholder.ibm-q.open.main.simulator_statevector, ibm.caholder.ibm-q.open.main.simulator_mps, ibm.caholder.ibm-q.open.main.simulator_extended_stabilizer, ibm.caholder.ibm-q.open.main.simulator_stabilizer, ibm.caholder.ibm-q.open.main.ibmq_manila, ibm.ibm-managed.ibmq_qasm_simulator, ibm.ibm-managed.ibmq_armonk, ibm.ibm-managed.ibmq_santiago, ibm.ibm-managed.ibmq_lima, ibm.ibm-managed.ibmq_belem, ibm.ibm-managed.ibmq_quito, ibm.ibm-managed.ibmq_manila, ibm.ibm-managed.ibm_nairobi, rigetti.rigetti-managed.Aspen-11, rigetti.rigetti-managed.Aspen-M-1, rigetti.rigetti-managed.Aspen-11-qvm, rigetti.rigetti-managed.Aspen-M-1-qvm, rigetti.rigetti-managed.9q-square-qvm, rigetti.rigetti-managed.9q-square-noisy-qvm, aer_simulator, aer_simulator_statevector, aer_simulator_density_matrix, aer_simulator_stabilizer, aer_simulator_matrix_product_state, aer_simulator_extended_stabilizer, aer_simulator_unitary, aer_simulator_superop, qasm_simulator, statevector_simulator, unitary_simulator, pulse_simulator]\n",
      "boggy-hawk-9073\n",
      "JobStatus.INITIALIZING\n",
      "{'00': 26, '11': 24}\n"
     ]
    }
   ],
   "source": [
    "# provider = IBMQ.load_account()\n",
    "# backend = provider.get_backend('ibmq_lima')\n",
    "\"\"\"Basic Qiskit circuit with no TKET adjustment\"\"\"\n",
    "\n",
    "print(provider.backends()) # to see a list of backends you can use from IBM. Provider is set to IBMQ\n",
    "qc = QuantumCircuit(2,2)\n",
    "qc.h(0)\n",
    "qc.cx(0,1)\n",
    "qc.measure([0,1],[0,1])\n",
    "# meas = QuantumCircuit(2,2)\n",
    "# meas.measure([0,1],[0,1])\n",
    "\n",
    "regularBackend = provider.get_backend('ibm.caholder.ibm-q-deloitte.internal.quantum-guild.ibmq_qasm_simulator')\n",
    "# drawing = qc.compose(meas)\n",
    "job = regularBackend.run(qc, shots=50)\n",
    "# job = regularBackend.run(drawing, shots=50)\n",
    "print(job.job_id())\n",
    "print(job.status())\n",
    "#\n",
    "# pullJob = StrangeworksJob.get(job.job_id())\n",
    "# result = pullJob.result()\n",
    "# print(result.to_dict())\n",
    "result = job.result()\n",
    "counts = result.get_counts()\n",
    "\n",
    "print(counts)\n",
    "\n"
   ]
  },
  {
   "cell_type": "code",
   "execution_count": 12,
   "metadata": {
    "collapsed": false,
    "jupyter": {
     "outputs_hidden": false
    },
    "pycharm": {
     "name": "#%%\n"
    }
   },
   "outputs": [
    {
     "name": "stdout",
     "output_type": "stream",
     "text": [
      "<class 'pytket._tket.circuit.Circuit'>\n"
     ]
    }
   ],
   "source": [
    "\"\"\"Qiskit to TKET conversion \"\"\"\n",
    "\n",
    "tketCirc = pyqi.qiskit_to_tk(qc)\n",
    "tketCirc.measure_all()\n",
    "print(type(tketCirc))\n"
   ]
  },
  {
   "cell_type": "code",
   "execution_count": 13,
   "outputs": [
    {
     "name": "stdout",
     "output_type": "stream",
     "text": [
      "Counter({(0, 0): 26, (1, 1): 24})\n"
     ]
    }
   ],
   "source": [
    "\"\"\"Running on TKET backends\"\"\"\n",
    "\n",
    "tketQiskitBackend = pyqi.AerBackend()\n",
    "tket_compiled_circ = tketQiskitBackend.get_compiled_circuit(tketCirc)\n",
    "tket_handle = tketQiskitBackend.process_circuit(tketCirc,n_shots=50)\n",
    "tket_counts = tketQiskitBackend.get_result((tket_handle)).get_counts()\n",
    "print(tket_counts)"
   ],
   "metadata": {
    "collapsed": false,
    "pycharm": {
     "name": "#%%\n"
    }
   }
  },
  {
   "cell_type": "code",
   "execution_count": 14,
   "outputs": [
    {
     "name": "stdout",
     "output_type": "stream",
     "text": [
      "['aws.Aspen-10', 'aws.Aspen-11', 'aws.Aspen-8', 'aws.Aspen-9', 'aws.Aspen-M-1', 'aws.IonQ Device', 'aws.Lucy', 'aws.SV1', 'aws.dm1']\n",
      "<strangeworks.jobs.jobs.Job object at 0x000001C245348370>\n",
      "GateModelQuantumTaskResult(task_metadata=TaskMetadata(braketSchemaHeader=BraketSchemaHeader(name='braket.task_result.task_metadata', version='1'), id='arn:aws:braket:us-west-1:498168020561:quantum-task/b65802a9-6d65-4a5a-9a7e-565bd581306a', shots=50, deviceId='arn:aws:braket:::device/quantum-simulator/amazon/sv1', deviceParameters=GateModelSimulatorDeviceParameters(braketSchemaHeader=BraketSchemaHeader(name='braket.device_schema.simulators.gate_model_simulator_device_parameters', version='1'), paradigmParameters=GateModelParameters(braketSchemaHeader=BraketSchemaHeader(name='braket.device_schema.gate_model_parameters', version='1'), qubitCount=2, disableQubitRewiring=False)), createdAt='2022-05-12T17:08:41.142Z', endedAt='2022-05-12T17:08:42.774Z', status='COMPLETED', failureReason=None), additional_metadata=AdditionalMetadata(action=Program(braketSchemaHeader=BraketSchemaHeader(name='braket.ir.jaqcd.program', version='1'), instructions=[I(target=0, type=<Type.i: 'i'>), I(target=1, type=<Type.i: 'i'>), H(target=0, type=<Type.h: 'h'>), CNot(control=0, target=1, type=<Type.cnot: 'cnot'>)], results=[], basis_rotation_instructions=[]), dwaveMetadata=None, rigettiMetadata=None, oqcMetadata=None, simulatorMetadata=SimulatorMetadata(braketSchemaHeader=BraketSchemaHeader(name='braket.task_result.simulator_metadata', version='1'), executionDuration=8)), result_types=[], values=[], measurements=array([[1, 1],\n",
      "       [0, 0],\n",
      "       [0, 0],\n",
      "       [1, 1],\n",
      "       [1, 1],\n",
      "       [1, 1],\n",
      "       [0, 0],\n",
      "       [0, 0],\n",
      "       [1, 1],\n",
      "       [1, 1],\n",
      "       [0, 0],\n",
      "       [0, 0],\n",
      "       [0, 0],\n",
      "       [1, 1],\n",
      "       [0, 0],\n",
      "       [1, 1],\n",
      "       [1, 1],\n",
      "       [0, 0],\n",
      "       [1, 1],\n",
      "       [1, 1],\n",
      "       [1, 1],\n",
      "       [0, 0],\n",
      "       [1, 1],\n",
      "       [1, 1],\n",
      "       [0, 0],\n",
      "       [0, 0],\n",
      "       [0, 0],\n",
      "       [0, 0],\n",
      "       [1, 1],\n",
      "       [0, 0],\n",
      "       [0, 0],\n",
      "       [1, 1],\n",
      "       [0, 0],\n",
      "       [1, 1],\n",
      "       [1, 1],\n",
      "       [1, 1],\n",
      "       [1, 1],\n",
      "       [1, 1],\n",
      "       [1, 1],\n",
      "       [1, 1],\n",
      "       [0, 0],\n",
      "       [0, 0],\n",
      "       [1, 1],\n",
      "       [0, 0],\n",
      "       [1, 1],\n",
      "       [1, 1],\n",
      "       [1, 1],\n",
      "       [0, 0],\n",
      "       [1, 1],\n",
      "       [0, 0]]), measured_qubits=[0, 1], measurement_counts=Counter({'11': 28, '00': 22}), measurement_probabilities={'11': 0.56, '00': 0.44}, measurements_copied_from_device=True, measurement_counts_copied_from_device=False, measurement_probabilities_copied_from_device=False, _result_types_indices={})\n"
     ]
    }
   ],
   "source": [
    "\"\"\"Braket Implementation\"\"\"\n",
    "\n",
    "print(get_backends()) #this method is from the strangeworks-braket package\n",
    "braketCircuit = pybra.tk_to_braket(tketCirc)\n",
    "braketJob = run_circuit(braketCircuit,backend='aws.SV1', shots=50)\n",
    "print(braketJob)\n",
    "braketResult = get_circuit_results(braketJob)\n",
    "print(braketResult)"
   ],
   "metadata": {
    "collapsed": false,
    "pycharm": {
     "name": "#%%\n"
    }
   }
  },
  {
   "cell_type": "code",
   "execution_count": 14,
   "outputs": [],
   "source": [],
   "metadata": {
    "collapsed": false,
    "pycharm": {
     "name": "#%%\n"
    }
   }
  }
 ],
 "metadata": {
  "kernelspec": {
   "display_name": "Python 3 (ipykernel)",
   "language": "python",
   "name": "python3"
  },
  "language_info": {
   "codemirror_mode": {
    "name": "ipython",
    "version": 3
   },
   "file_extension": ".py",
   "mimetype": "text/x-python",
   "name": "python",
   "nbconvert_exporter": "python",
   "pygments_lexer": "ipython3",
   "version": "3.9.7"
  }
 },
 "nbformat": 4,
 "nbformat_minor": 4
}